{
 "cells": [
  {
   "cell_type": "markdown",
   "metadata": {},
   "source": [
    "### 0. Setting"
   ]
  },
  {
   "cell_type": "code",
   "execution_count": 56,
   "metadata": {},
   "outputs": [],
   "source": [
    "import torch\n",
    "import sys\n",
    "import numpy as np\n",
    "import os\n",
    "import yaml\n",
    "import matplotlib.pyplot as plt\n",
    "import torchvision\n",
    "\n",
    "from torch.utils.data import DataLoader\n",
    "import torchvision.transforms as transforms\n",
    "from torchvision import datasets\n",
    "import torch.nn as nn"
   ]
  },
  {
   "cell_type": "code",
   "execution_count": 57,
   "metadata": {},
   "outputs": [
    {
     "name": "stdout",
     "output_type": "stream",
     "text": [
      "Requirement already satisfied: gdown in /usr/local/lib/python3.6/dist-packages (3.10.1)\n",
      "Requirement already satisfied: filelock in /usr/local/lib/python3.6/dist-packages (from gdown) (3.4.1)\n",
      "Requirement already satisfied: requests[socks] in /usr/local/lib/python3.6/dist-packages (from gdown) (2.27.0)\n",
      "Requirement already satisfied: tqdm in /usr/local/lib/python3.6/dist-packages (from gdown) (4.62.3)\n",
      "Requirement already satisfied: six in /usr/local/lib/python3.6/dist-packages (from gdown) (1.15.0)\n",
      "Requirement already satisfied: certifi>=2017.4.17 in /usr/local/lib/python3.6/dist-packages (from requests[socks]->gdown) (2021.10.8)\n",
      "Requirement already satisfied: charset-normalizer~=2.0.0 in /usr/local/lib/python3.6/dist-packages (from requests[socks]->gdown) (2.0.9)\n",
      "Requirement already satisfied: idna<4,>=2.5 in /usr/local/lib/python3.6/dist-packages (from requests[socks]->gdown) (3.3)\n",
      "Requirement already satisfied: urllib3<1.27,>=1.21.1 in /usr/local/lib/python3.6/dist-packages (from requests[socks]->gdown) (1.26.7)\n",
      "Requirement already satisfied: PySocks!=1.5.7,>=1.5.6 in /usr/local/lib/python3.6/dist-packages (from requests[socks]->gdown) (1.7.1)\n",
      "\u001b[33mWARNING: Running pip as the 'root' user can result in broken permissions and conflicting behaviour with the system package manager. It is recommended to use a virtual environment instead: https://pip.pypa.io/warnings/venv\u001b[0m\n"
     ]
    }
   ],
   "source": [
    "!pip install gdown"
   ]
  },
  {
   "cell_type": "code",
   "execution_count": 58,
   "metadata": {},
   "outputs": [
    {
     "name": "stdout",
     "output_type": "stream",
     "text": [
      "Using device: cuda\n"
     ]
    }
   ],
   "source": [
    "device = 'cuda' if torch.cuda.is_available() else 'cpu'\n",
    "print('Using device:', device)"
   ]
  },
  {
   "cell_type": "code",
   "execution_count": 59,
   "metadata": {},
   "outputs": [],
   "source": [
    "def get_stl10_data_loaders(download, shuffle=False, batch_size=256):\n",
    "\n",
    "    train_dataset = datasets.STL10('./data', split='train', download=download,\n",
    "                                   transform=transforms.ToTensor())\n",
    "    train_loader = DataLoader(train_dataset, batch_size=batch_size,\n",
    "                              num_workers=0, drop_last=False, shuffle=shuffle)\n",
    "    test_dataset = datasets.STL10('./data', split='test', download=download,\n",
    "                                  transform=transforms.ToTensor())\n",
    "    test_loader = DataLoader(test_dataset, batch_size=2*batch_size,\n",
    "                            num_workers=0, drop_last=False, shuffle=shuffle)\n",
    "    \n",
    "    return train_loader, test_loader\n",
    "\n",
    "def get_cifar10_data_loaders(download, shuffle=False, batch_size=256):\n",
    "    \n",
    "    train_dataset = datasets.CIFAR10('./data', train=True, download=download,\n",
    "                                  transform=transforms.ToTensor())\n",
    "    train_loader = DataLoader(train_dataset, batch_size=batch_size,\n",
    "                              num_workers=0, drop_last=False, shuffle=shuffle)\n",
    "  \n",
    "    test_dataset = datasets.CIFAR10('./data', train=False, download=download,\n",
    "                                    transform=transforms.ToTensor())\n",
    "\n",
    "    test_loader = DataLoader(test_dataset, batch_size=2*batch_size,\n",
    "                             num_workers=0, drop_last=False, shuffle=shuffle)\n",
    "    \n",
    "    return train_loader, test_loader"
   ]
  },
  {
   "cell_type": "code",
   "execution_count": 60,
   "metadata": {},
   "outputs": [],
   "source": [
    "with open(os.path.join('../runs/Jul27_LARS_lr1.5_Momentum0.9/config.yml')) as file:\n",
    "    config = yaml.load(file, Loader=yaml.FullLoader)"
   ]
  },
  {
   "cell_type": "code",
   "execution_count": 61,
   "metadata": {},
   "outputs": [],
   "source": [
    "if config['arch'] == 'resnet18':\n",
    "    model = torchvision.models.resnet18(pretrained=False, num_classes=10).to(device)\n",
    "elif config['arch'] == 'resnet50':\n",
    "    model = torchvision.models.resnet50(pretrained=False, num_classes=10)\n",
    "    if config['dataset_name'] == 'cifar10':\n",
    "        model.conv1 = nn.Conv2d(3, 64, kernel_size=3, stride=1)\n",
    "        model.maxpool = nn.Identity()\n",
    "        model.to(device)"
   ]
  },
  {
   "cell_type": "markdown",
   "metadata": {},
   "source": [
    "### Remove FC weights and bias"
   ]
  },
  {
   "cell_type": "code",
   "execution_count": 62,
   "metadata": {},
   "outputs": [],
   "source": [
    "checkpoint = torch.load('../runs/Jul27_LARS_lr1.5_Momentum0.9/checkpoint_0500.pth.tar')\n",
    "state_dict = checkpoint['state_dict']\n",
    "\n",
    "for k in list(state_dict.keys()):\n",
    "\n",
    "    if k.startswith('backbone.'):\n",
    "        if k.startswith('backbone') and not k.startswith('backbone.fc'):\n",
    "            # remove prefix\n",
    "            state_dict[k[len(\"backbone.\"):]] = state_dict[k]\n",
    "        del state_dict[k]"
   ]
  },
  {
   "cell_type": "code",
   "execution_count": 63,
   "metadata": {},
   "outputs": [],
   "source": [
    "log = model.load_state_dict(state_dict, strict=False)\n",
    "assert log.missing_keys == ['fc.weight', 'fc.bias']"
   ]
  },
  {
   "cell_type": "code",
   "execution_count": 64,
   "metadata": {},
   "outputs": [
    {
     "name": "stdout",
     "output_type": "stream",
     "text": [
      "Files already downloaded and verified\n",
      "Files already downloaded and verified\n",
      "Dataset: cifar10\n"
     ]
    }
   ],
   "source": [
    "if config['dataset_name'] == 'cifar10':\n",
    "    train_loader, test_loader = get_cifar10_data_loaders(download=True)\n",
    "elif config['dataset_name'] == 'stl10':\n",
    "    train_loader, test_loader = get_stl10_data_loaders(download=True)\n",
    "print(\"Dataset:\", config['dataset_name'])"
   ]
  },
  {
   "cell_type": "markdown",
   "metadata": {},
   "source": [
    "### Freeze all layers except for the last FC layer"
   ]
  },
  {
   "cell_type": "code",
   "execution_count": 65,
   "metadata": {},
   "outputs": [],
   "source": [
    "for name, param in model.named_parameters():\n",
    "    if name not in ['fc.weight', 'fc.bias']:\n",
    "        param.requires_grad = False\n",
    "\n",
    "parameters = list(filter(lambda p: p.requires_grad, model.parameters()))\n",
    "# fc.weight, fc.bias\n",
    "assert len(parameters) == 2"
   ]
  },
  {
   "cell_type": "code",
   "execution_count": 66,
   "metadata": {},
   "outputs": [],
   "source": [
    "from torchlars import LARS\n",
    "\n",
    "base_optimizer = torch.optim.SGD(model.parameters(), lr=1.5, weight_decay=1e-6, momentum=0.9)\n",
    "optimizer = LARS(base_optimizer, eps=1e-8, trust_coef=0.001)\n",
    "criterion = torch.nn.CrossEntropyLoss().to(device)"
   ]
  },
  {
   "cell_type": "markdown",
   "metadata": {},
   "source": [
    "### Define evaluation metric: Top-k accuracy"
   ]
  },
  {
   "cell_type": "code",
   "execution_count": 67,
   "metadata": {},
   "outputs": [],
   "source": [
    "def accuracy(output, target, topk=(1, )):\n",
    "    with torch.no_grad():\n",
    "        maxk = max(topk)\n",
    "        batch_size = target.size(0)\n",
    "\n",
    "        _, pred = output.topk(maxk, 1, True, True)\n",
    "        pred = pred.t()\n",
    "        correct = pred.eq(target.view(1, -1).expand_as(pred))\n",
    "\n",
    "        res = []\n",
    "        for k in topk:\n",
    "            correct_k = correct[:k].reshape(-1).float().sum(0, keepdim=True)\n",
    "            res.append(correct_k.mul_(100.0 / batch_size))\n",
    "        return res"
   ]
  },
  {
   "cell_type": "code",
   "execution_count": 68,
   "metadata": {},
   "outputs": [
    {
     "name": "stdout",
     "output_type": "stream",
     "text": [
      "Epoch 0\tTop1 Train accuracy 79.49537658691406\tTop1 Test accuracy: 86.05066680908203\tTop5 test acc: 99.49333953857422\n",
      "Epoch 1\tTop1 Train accuracy 88.22504425048828\tTop1 Test accuracy: 87.50115203857422\tTop5 test acc: 99.56169891357422\n",
      "Epoch 2\tTop1 Train accuracy 89.39971160888672\tTop1 Test accuracy: 88.03596496582031\tTop5 test acc: 99.64958953857422\n",
      "Epoch 3\tTop1 Train accuracy 89.90074920654297\tTop1 Test accuracy: 88.38005828857422\tTop5 test acc: 99.64958953857422\n",
      "Epoch 4\tTop1 Train accuracy 90.32366180419922\tTop1 Test accuracy: 88.69026184082031\tTop5 test acc: 99.658203125\n",
      "Epoch 5\tTop1 Train accuracy 90.70830535888672\tTop1 Test accuracy: 88.779296875\tTop5 test acc: 99.6875\n",
      "Epoch 6\tTop1 Train accuracy 90.92753601074219\tTop1 Test accuracy: 88.974609375\tTop5 test acc: 99.677734375\n",
      "Epoch 7\tTop1 Train accuracy 91.16071319580078\tTop1 Test accuracy: 89.1285629272461\tTop5 test acc: 99.6875\n",
      "Epoch 8\tTop1 Train accuracy 91.38392639160156\tTop1 Test accuracy: 89.21760559082031\tTop5 test acc: 99.677734375\n",
      "Epoch 9\tTop1 Train accuracy 91.511474609375\tTop1 Test accuracy: 89.248046875\tTop5 test acc: 99.6875\n",
      "Epoch 10\tTop1 Train accuracy 91.72512817382812\tTop1 Test accuracy: 89.28596496582031\tTop5 test acc: 99.70703125\n",
      "Epoch 11\tTop1 Train accuracy 91.86264038085938\tTop1 Test accuracy: 89.26643371582031\tTop5 test acc: 99.70703125\n",
      "Epoch 12\tTop1 Train accuracy 92.0264663696289\tTop1 Test accuracy: 89.17854309082031\tTop5 test acc: 99.7265625\n",
      "Epoch 13\tTop1 Train accuracy 92.20185089111328\tTop1 Test accuracy: 89.13948059082031\tTop5 test acc: 99.7265625\n",
      "Epoch 14\tTop1 Train accuracy 92.351318359375\tTop1 Test accuracy: 89.18830871582031\tTop5 test acc: 99.736328125\n",
      "Epoch 15\tTop1 Train accuracy 92.51075744628906\tTop1 Test accuracy: 89.17854309082031\tTop5 test acc: 99.70703125\n",
      "Epoch 16\tTop1 Train accuracy 92.61837768554688\tTop1 Test accuracy: 89.22737121582031\tTop5 test acc: 99.70703125\n",
      "Epoch 17\tTop1 Train accuracy 92.75191497802734\tTop1 Test accuracy: 89.22737121582031\tTop5 test acc: 99.70703125\n",
      "Epoch 18\tTop1 Train accuracy 92.85753631591797\tTop1 Test accuracy: 89.28366088867188\tTop5 test acc: 99.697265625\n",
      "Epoch 19\tTop1 Train accuracy 92.96715545654297\tTop1 Test accuracy: 89.30319213867188\tTop5 test acc: 99.6484375\n",
      "Epoch 20\tTop1 Train accuracy 93.09111785888672\tTop1 Test accuracy: 89.27389526367188\tTop5 test acc: 99.62890625\n",
      "Epoch 21\tTop1 Train accuracy 93.19873809814453\tTop1 Test accuracy: 89.32272338867188\tTop5 test acc: 99.619140625\n",
      "Epoch 22\tTop1 Train accuracy 93.288818359375\tTop1 Test accuracy: 89.34111022949219\tTop5 test acc: 99.638671875\n",
      "Epoch 23\tTop1 Train accuracy 93.4207534790039\tTop1 Test accuracy: 89.28366088867188\tTop5 test acc: 99.638671875\n",
      "Epoch 24\tTop1 Train accuracy 93.48851776123047\tTop1 Test accuracy: 89.28366088867188\tTop5 test acc: 99.638671875\n",
      "Epoch 25\tTop1 Train accuracy 93.56425476074219\tTop1 Test accuracy: 89.1969223022461\tTop5 test acc: 99.638671875\n",
      "Epoch 26\tTop1 Train accuracy 93.64994812011719\tTop1 Test accuracy: 89.1578598022461\tTop5 test acc: 99.6484375\n",
      "Epoch 27\tTop1 Train accuracy 93.7157211303711\tTop1 Test accuracy: 89.1578598022461\tTop5 test acc: 99.638671875\n",
      "Epoch 28\tTop1 Train accuracy 93.8113784790039\tTop1 Test accuracy: 89.13603210449219\tTop5 test acc: 99.638671875\n",
      "Epoch 29\tTop1 Train accuracy 93.89707946777344\tTop1 Test accuracy: 89.11650085449219\tTop5 test acc: 99.6484375\n",
      "Epoch 30\tTop1 Train accuracy 93.94092559814453\tTop1 Test accuracy: 89.06767272949219\tTop5 test acc: 99.658203125\n",
      "Epoch 31\tTop1 Train accuracy 93.9967269897461\tTop1 Test accuracy: 89.11650085449219\tTop5 test acc: 99.658203125\n",
      "Epoch 32\tTop1 Train accuracy 94.04456329345703\tTop1 Test accuracy: 89.09696960449219\tTop5 test acc: 99.6484375\n",
      "Epoch 33\tTop1 Train accuracy 94.11231994628906\tTop1 Test accuracy: 89.02975463867188\tTop5 test acc: 99.658203125\n",
      "Epoch 34\tTop1 Train accuracy 94.17012023925781\tTop1 Test accuracy: 89.0113754272461\tTop5 test acc: 99.658203125\n",
      "Epoch 35\tTop1 Train accuracy 94.23389434814453\tTop1 Test accuracy: 88.94416809082031\tTop5 test acc: 99.658203125\n",
      "Epoch 36\tTop1 Train accuracy 94.29169464111328\tTop1 Test accuracy: 88.9430160522461\tTop5 test acc: 99.658203125\n",
      "Epoch 37\tTop1 Train accuracy 94.32955932617188\tTop1 Test accuracy: 88.91487121582031\tTop5 test acc: 99.6484375\n",
      "Epoch 38\tTop1 Train accuracy 94.4092788696289\tTop1 Test accuracy: 88.85627746582031\tTop5 test acc: 99.619140625\n",
      "Epoch 39\tTop1 Train accuracy 94.46308898925781\tTop1 Test accuracy: 88.837890625\tTop5 test acc: 99.599609375\n",
      "Epoch 40\tTop1 Train accuracy 94.51490783691406\tTop1 Test accuracy: 88.7229995727539\tTop5 test acc: 99.609375\n",
      "Epoch 41\tTop1 Train accuracy 94.56472778320312\tTop1 Test accuracy: 88.69255828857422\tTop5 test acc: 99.609375\n",
      "Epoch 42\tTop1 Train accuracy 94.60658264160156\tTop1 Test accuracy: 88.6351089477539\tTop5 test acc: 99.609375\n",
      "Epoch 43\tTop1 Train accuracy 94.6827163696289\tTop1 Test accuracy: 88.6155776977539\tTop5 test acc: 99.599609375\n",
      "Epoch 44\tTop1 Train accuracy 94.70862579345703\tTop1 Test accuracy: 88.57537078857422\tTop5 test acc: 99.580078125\n",
      "Epoch 45\tTop1 Train accuracy 94.74449920654297\tTop1 Test accuracy: 88.51677703857422\tTop5 test acc: 99.5703125\n",
      "Epoch 46\tTop1 Train accuracy 94.79830932617188\tTop1 Test accuracy: 88.43865203857422\tTop5 test acc: 99.5703125\n",
      "Epoch 47\tTop1 Train accuracy 94.83617401123047\tTop1 Test accuracy: 88.43865203857422\tTop5 test acc: 99.580078125\n",
      "Epoch 48\tTop1 Train accuracy 94.85012817382812\tTop1 Test accuracy: 88.42888641357422\tTop5 test acc: 99.580078125\n",
      "Epoch 49\tTop1 Train accuracy 94.87403869628906\tTop1 Test accuracy: 88.4007339477539\tTop5 test acc: 99.580078125\n",
      "Epoch 50\tTop1 Train accuracy 94.90393829345703\tTop1 Test accuracy: 88.4202651977539\tTop5 test acc: 99.580078125\n",
      "Epoch 51\tTop1 Train accuracy 94.92784881591797\tTop1 Test accuracy: 88.3421401977539\tTop5 test acc: 99.580078125\n",
      "Epoch 52\tTop1 Train accuracy 94.95176696777344\tTop1 Test accuracy: 88.3226089477539\tTop5 test acc: 99.560546875\n",
      "Epoch 53\tTop1 Train accuracy 94.99561309814453\tTop1 Test accuracy: 88.3030776977539\tTop5 test acc: 99.560546875\n",
      "Epoch 54\tTop1 Train accuracy 95.02152252197266\tTop1 Test accuracy: 88.2640151977539\tTop5 test acc: 99.55078125\n",
      "Epoch 55\tTop1 Train accuracy 95.06935119628906\tTop1 Test accuracy: 88.2151870727539\tTop5 test acc: 99.55078125\n",
      "Epoch 56\tTop1 Train accuracy 95.09526062011719\tTop1 Test accuracy: 88.21633911132812\tTop5 test acc: 99.560546875\n",
      "Epoch 57\tTop1 Train accuracy 95.14309692382812\tTop1 Test accuracy: 88.23587036132812\tTop5 test acc: 99.55078125\n",
      "Epoch 58\tTop1 Train accuracy 95.14508819580078\tTop1 Test accuracy: 88.24563598632812\tTop5 test acc: 99.541015625\n",
      "Epoch 59\tTop1 Train accuracy 95.16302490234375\tTop1 Test accuracy: 88.18704223632812\tTop5 test acc: 99.541015625\n",
      "Epoch 60\tTop1 Train accuracy 95.18893432617188\tTop1 Test accuracy: 88.1956558227539\tTop5 test acc: 99.541015625\n",
      "Epoch 61\tTop1 Train accuracy 95.21285247802734\tTop1 Test accuracy: 88.21633911132812\tTop5 test acc: 99.541015625\n",
      "Epoch 62\tTop1 Train accuracy 95.24075317382812\tTop1 Test accuracy: 88.2054214477539\tTop5 test acc: 99.53125\n",
      "Epoch 63\tTop1 Train accuracy 95.27263641357422\tTop1 Test accuracy: 88.2054214477539\tTop5 test acc: 99.55078125\n",
      "Epoch 64\tTop1 Train accuracy 95.30452728271484\tTop1 Test accuracy: 88.1468276977539\tTop5 test acc: 99.541015625\n",
      "Epoch 65\tTop1 Train accuracy 95.32644653320312\tTop1 Test accuracy: 88.1272964477539\tTop5 test acc: 99.53125\n",
      "Epoch 66\tTop1 Train accuracy 95.32047271728516\tTop1 Test accuracy: 88.0198745727539\tTop5 test acc: 99.53125\n",
      "Epoch 67\tTop1 Train accuracy 95.3503646850586\tTop1 Test accuracy: 87.9905776977539\tTop5 test acc: 99.521484375\n",
      "Epoch 68\tTop1 Train accuracy 95.36431884765625\tTop1 Test accuracy: 87.9905776977539\tTop5 test acc: 99.521484375\n",
      "Epoch 69\tTop1 Train accuracy 95.14070129394531\tTop1 Test accuracy: 87.5901870727539\tTop5 test acc: 99.48357391357422\n",
      "Epoch 70\tTop1 Train accuracy 95.26068115234375\tTop1 Test accuracy: 88.1272964477539\tTop5 test acc: 99.541015625\n",
      "Epoch 71\tTop1 Train accuracy 95.4420394897461\tTop1 Test accuracy: 88.0003433227539\tTop5 test acc: 99.53125\n",
      "Epoch 72\tTop1 Train accuracy 95.44602966308594\tTop1 Test accuracy: 87.99919891357422\tTop5 test acc: 99.53125\n",
      "Epoch 73\tTop1 Train accuracy 95.43805694580078\tTop1 Test accuracy: 87.91015625\tTop5 test acc: 99.53125\n",
      "Epoch 74\tTop1 Train accuracy 95.2527084350586\tTop1 Test accuracy: 87.83663177490234\tTop5 test acc: 99.501953125\n",
      "Epoch 75\tTop1 Train accuracy 95.36431884765625\tTop1 Test accuracy: 87.9710464477539\tTop5 test acc: 99.53125\n",
      "Epoch 76\tTop1 Train accuracy 95.47393035888672\tTop1 Test accuracy: 87.82571411132812\tTop5 test acc: 99.51287078857422\n",
      "Epoch 77\tTop1 Train accuracy 95.5496597290039\tTop1 Test accuracy: 87.58386993408203\tTop5 test acc: 99.48357391357422\n",
      "Epoch 78\tTop1 Train accuracy 95.5496597290039\tTop1 Test accuracy: 87.53389739990234\tTop5 test acc: 99.50310516357422\n",
      "Epoch 79\tTop1 Train accuracy 95.22679901123047\tTop1 Test accuracy: 87.68038177490234\tTop5 test acc: 99.48357391357422\n",
      "Epoch 80\tTop1 Train accuracy 95.5616226196289\tTop1 Test accuracy: 87.4437026977539\tTop5 test acc: 99.47380828857422\n",
      "Epoch 81\tTop1 Train accuracy 95.3663101196289\tTop1 Test accuracy: 87.49138641357422\tTop5 test acc: 99.48357391357422\n",
      "Epoch 82\tTop1 Train accuracy 95.34239196777344\tTop1 Test accuracy: 87.71484375\tTop5 test acc: 99.51287078857422\n",
      "Epoch 83\tTop1 Train accuracy 95.35833740234375\tTop1 Test accuracy: 87.54366302490234\tTop5 test acc: 99.46404266357422\n",
      "Epoch 84\tTop1 Train accuracy 95.26666259765625\tTop1 Test accuracy: 87.71944427490234\tTop5 test acc: 99.45427703857422\n",
      "Epoch 85\tTop1 Train accuracy 95.43805694580078\tTop1 Test accuracy: 87.685546875\tTop5 test acc: 99.45427703857422\n",
      "Epoch 86\tTop1 Train accuracy 95.49983978271484\tTop1 Test accuracy: 87.8147964477539\tTop5 test acc: 99.42498016357422\n",
      "Epoch 87\tTop1 Train accuracy 95.53372192382812\tTop1 Test accuracy: 87.57180786132812\tTop5 test acc: 99.45427703857422\n",
      "Epoch 88\tTop1 Train accuracy 95.41931915283203\tTop1 Test accuracy: 86.65958404541016\tTop5 test acc: 99.44451141357422\n",
      "Epoch 89\tTop1 Train accuracy 95.18853759765625\tTop1 Test accuracy: 87.04676055908203\tTop5 test acc: 99.44451141357422\n",
      "Epoch 90\tTop1 Train accuracy 95.27423095703125\tTop1 Test accuracy: 87.12374114990234\tTop5 test acc: 99.46404266357422\n",
      "Epoch 91\tTop1 Train accuracy 95.47991180419922\tTop1 Test accuracy: 87.20415496826172\tTop5 test acc: 99.51171875\n",
      "Epoch 92\tTop1 Train accuracy 95.52375793457031\tTop1 Test accuracy: 87.1116714477539\tTop5 test acc: 99.43474578857422\n",
      "Epoch 93\tTop1 Train accuracy 95.49385833740234\tTop1 Test accuracy: 87.16509246826172\tTop5 test acc: 99.45427703857422\n",
      "Epoch 94\tTop1 Train accuracy 95.0613784790039\tTop1 Test accuracy: 87.07893371582031\tTop5 test acc: 99.46404266357422\n",
      "Epoch 95\tTop1 Train accuracy 95.47393035888672\tTop1 Test accuracy: 87.19612121582031\tTop5 test acc: 99.47380828857422\n",
      "Epoch 96\tTop1 Train accuracy 95.34040069580078\tTop1 Test accuracy: 87.31790161132812\tTop5 test acc: 99.44451141357422\n",
      "Epoch 97\tTop1 Train accuracy 95.6433334350586\tTop1 Test accuracy: 87.33858489990234\tTop5 test acc: 99.521484375\n",
      "Epoch 98\tTop1 Train accuracy 95.21045684814453\tTop1 Test accuracy: 86.67566680908203\tTop5 test acc: 99.42498016357422\n",
      "Epoch 99\tTop1 Train accuracy 95.40178680419922\tTop1 Test accuracy: 87.6292495727539\tTop5 test acc: 99.50310516357422\n"
     ]
    }
   ],
   "source": [
    "epochs = 100\n",
    "for epoch in range(epochs):\n",
    "  top1_train_accuracy = 0\n",
    "  for counter, (x_batch, y_batch) in enumerate(train_loader):\n",
    "    x_batch = x_batch.to(device)\n",
    "    y_batch = y_batch.to(device)\n",
    "\n",
    "    logits = model(x_batch)\n",
    "    loss = criterion(logits, y_batch)\n",
    "    top1 = accuracy(logits, y_batch, topk=(1,))\n",
    "    top1_train_accuracy += top1[0]\n",
    "\n",
    "    optimizer.zero_grad()\n",
    "    loss.backward()\n",
    "    optimizer.step()\n",
    "\n",
    "  top1_train_accuracy /= (counter + 1)\n",
    "  top1_accuracy = 0\n",
    "  top5_accuracy = 0\n",
    "  for counter, (x_batch, y_batch) in enumerate(test_loader):\n",
    "    x_batch = x_batch.to(device)\n",
    "    y_batch = y_batch.to(device)\n",
    "\n",
    "    logits = model(x_batch)\n",
    "  \n",
    "    top1, top5 = accuracy(logits, y_batch, topk=(1,5))\n",
    "    top1_accuracy += top1[0]\n",
    "    top5_accuracy += top5[0]\n",
    "  \n",
    "  top1_accuracy /= (counter + 1)\n",
    "  top5_accuracy /= (counter + 1)\n",
    "  print(f\"Epoch {epoch}\\tTop1 Train accuracy {top1_train_accuracy.item()}\\tTop1 Test accuracy: {top1_accuracy.item()}\\tTop5 test acc: {top5_accuracy.item()}\")"
   ]
  }
 ],
 "metadata": {
  "kernelspec": {
   "display_name": "Python 3.6.9 64-bit",
   "language": "python",
   "name": "python3"
  },
  "language_info": {
   "codemirror_mode": {
    "name": "ipython",
    "version": 3
   },
   "file_extension": ".py",
   "mimetype": "text/x-python",
   "name": "python",
   "nbconvert_exporter": "python",
   "pygments_lexer": "ipython3",
   "version": "3.6.9"
  },
  "orig_nbformat": 4,
  "vscode": {
   "interpreter": {
    "hash": "31f2aee4e71d21fbe5cf8b01ff0e069b9275f58929596ceb00d14d90e3e16cd6"
   }
  }
 },
 "nbformat": 4,
 "nbformat_minor": 2
}
